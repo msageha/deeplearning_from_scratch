{
  "nbformat": 4,
  "nbformat_minor": 0,
  "metadata": {
    "colab": {
      "name": "deeplearning_from_scratch_2_section_1.ipynb",
      "version": "0.3.2",
      "provenance": [],
      "include_colab_link": true
    },
    "kernelspec": {
      "name": "python3",
      "display_name": "Python 3"
    },
    "accelerator": "GPU"
  },
  "cells": [
    {
      "cell_type": "markdown",
      "metadata": {
        "id": "view-in-github",
        "colab_type": "text"
      },
      "source": [
        "<a href=\"https://colab.research.google.com/github/msageha/deeplearning_from_scratch/blob/master/deeplearning_from_scratch_2/section_1.ipynb\" target=\"_parent\"><img src=\"https://colab.research.google.com/assets/colab-badge.svg\" alt=\"Open In Colab\"/></a>"
      ]
    },
    {
      "metadata": {
        "id": "H7TU9GQv7TOr",
        "colab_type": "code",
        "colab": {
          "base_uri": "https://localhost:8080/",
          "height": 510
        },
        "outputId": "e466e400-abb5-4a4e-9e0d-804d14f9ffdc"
      },
      "cell_type": "code",
      "source": [
        "!curl https://gist.githubusercontent.com/msageha/1765bd85b8f1e18141e7bff5982995a4/raw/bb20bc16d48cab6e08dcdbc6b5711e3edf356b73/initialize_google_colaboratory.sh | sh"
      ],
      "execution_count": 8,
      "outputs": [
        {
          "output_type": "stream",
          "text": [
            "  % Total    % Received % Xferd  Average Speed   Time    Time     Time  Current\n",
            "                                 Dload  Upload   Total   Spent    Left  Speed\n",
            "\r  0     0    0     0    0     0      0      0 --:--:-- --:--:-- --:--:--     0\r  0     0    0     0    0     0      0      0 --:--:-- --:--:-- --:--:--     0\r100    86  100    86    0     0    569      0 --:--:-- --:--:-- --:--:--   565\n",
            "  % Total    % Received % Xferd  Average Speed   Time    Time     Time  Current\n",
            "                                 Dload  Upload   Total   Spent    Left  Speed\n",
            "\r  0     0    0     0    0     0      0      0 --:--:-- --:--:-- --:--:--     0\r100  1379  100  1379    0     0   5698      0 --:--:-- --:--:-- --:--:--  5698\n",
            "+ apt -y -q install cuda-libraries-dev-9-2\n",
            "Reading package lists...\n",
            "Building dependency tree...\n",
            "Reading state information...\n",
            "cuda-libraries-dev-9-2 is already the newest version (9.2.148-1).\n",
            "0 upgraded, 0 newly installed, 0 to remove and 5 not upgraded.\n",
            "+ pip install -q cupy-cuda92  chainer \n",
            "+ set +ex\n",
            "Installation succeeded!\n",
            "Requirement already satisfied: torch in /usr/local/lib/python3.6/dist-packages (0.4.1)\n",
            "Collecting torchtext\n",
            "\u001b[?25l  Downloading https://files.pythonhosted.org/packages/c6/bc/b28b9efb4653c03e597ed207264eea45862b5260f48e9f010b5068d64db1/torchtext-0.3.1-py3-none-any.whl (62kB)\n",
            "\u001b[K    100% |████████████████████████████████| 71kB 3.0MB/s \n",
            "\u001b[?25hRequirement already satisfied: numpy in /usr/local/lib/python3.6/dist-packages (from torchtext) (1.14.6)\n",
            "Requirement already satisfied: tqdm in /usr/local/lib/python3.6/dist-packages (from torchtext) (4.28.1)\n",
            "Requirement already satisfied: torch in /usr/local/lib/python3.6/dist-packages (from torchtext) (0.4.1)\n",
            "Requirement already satisfied: requests in /usr/local/lib/python3.6/dist-packages (from torchtext) (2.18.4)\n",
            "Requirement already satisfied: chardet<3.1.0,>=3.0.2 in /usr/local/lib/python3.6/dist-packages (from requests->torchtext) (3.0.4)\n",
            "Requirement already satisfied: certifi>=2017.4.17 in /usr/local/lib/python3.6/dist-packages (from requests->torchtext) (2018.10.15)\n",
            "Requirement already satisfied: urllib3<1.23,>=1.21.1 in /usr/local/lib/python3.6/dist-packages (from requests->torchtext) (1.22)\n",
            "Requirement already satisfied: idna<2.7,>=2.5 in /usr/local/lib/python3.6/dist-packages (from requests->torchtext) (2.6)\n",
            "Installing collected packages: torchtext\n",
            "Successfully installed torchtext-0.3.1\n"
          ],
          "name": "stdout"
        }
      ]
    },
    {
      "metadata": {
        "id": "xOkfeRms79K0",
        "colab_type": "code",
        "colab": {
          "base_uri": "https://localhost:8080/",
          "height": 34
        },
        "outputId": "babcea15-4127-41e0-f6e2-a4cde1d3733f"
      },
      "cell_type": "code",
      "source": [
        "!git clone https://github.com/oreilly-japan/deep-learning-from-scratch-2.git"
      ],
      "execution_count": 12,
      "outputs": [
        {
          "output_type": "stream",
          "text": [
            "fatal: destination path 'deep-learning-from-scratch-2' already exists and is not an empty directory.\n"
          ],
          "name": "stdout"
        }
      ]
    },
    {
      "metadata": {
        "id": "oFMZYvpYQxvZ",
        "colab_type": "code",
        "colab": {
          "base_uri": "https://localhost:8080/",
          "height": 34
        },
        "outputId": "c55b08c0-e611-4971-c2ca-5aa822ca5575"
      },
      "cell_type": "code",
      "source": [
        "!ls"
      ],
      "execution_count": 13,
      "outputs": [
        {
          "output_type": "stream",
          "text": [
            "deep-learning-from-scratch-2  sample_data\n"
          ],
          "name": "stdout"
        }
      ]
    },
    {
      "metadata": {
        "id": "9gHpxvHz8uTa",
        "colab_type": "code",
        "colab": {}
      },
      "cell_type": "code",
      "source": [
        "import sys\n",
        "sys.path.append('./deep-learning-from-scratch-2')\n",
        "import numpy as np\n",
        "import matplotlib.pyplot as plt\n",
        "\n",
        "GPU = True\n",
        "xp = np\n",
        "if GPU:\n",
        "  try:\n",
        "    import cupy as cp\n",
        "    xp = cp\n",
        "  except:\n",
        "    pass"
      ],
      "execution_count": 0,
      "outputs": []
    },
    {
      "metadata": {
        "id": "P_xROUDXUDu1",
        "colab_type": "text"
      },
      "cell_type": "markdown",
      "source": [
        "**シグモイド関数**"
      ]
    },
    {
      "metadata": {
        "id": "32D_mwyV9ygG",
        "colab_type": "code",
        "colab": {
          "base_uri": "https://localhost:8080/",
          "height": 362
        },
        "outputId": "66e4105b-70f7-4bc5-fd19-6daccf48c73a"
      },
      "cell_type": "code",
      "source": [
        "def sigmoid(x):\n",
        "  return 1 / (1 + np.exp(-x))\n",
        "\n",
        "def show():\n",
        "  X = np.arange(-8, 8, 0.1) #-8から8まで0.1刻みの値を配列で生成\n",
        "  Y = sigmoid(X) #Xの値をシグモイド関数に渡す\n",
        "  plt.plot(X, Y)\n",
        "  plt.xlim(-8, 8) #x軸:-8から8までの範囲で表示\n",
        "  plt.ylim(-0.1, 1.1) #y軸: -0.1から1.1までの範囲で表示\n",
        "  plt.title(\"sigmoid function graph\")\n",
        "  plt.show()\n",
        " \n",
        "show()"
      ],
      "execution_count": 149,
      "outputs": [
        {
          "output_type": "display_data",
          "data": {
            "image/png": "[encoded data removed]",
            "text/plain": [
              "<matplotlib.figure.Figure at 0x7efe466e6470>"
            ]
          },
          "metadata": {
            "tags": []
          }
        }
      ]
    },
    {
      "metadata": {
        "id": "aSUUn9rZLNOy",
        "colab_type": "code",
        "colab": {}
      },
      "cell_type": "code",
      "source": [
        "# Sigmoidレイヤ\n",
        "class Sigmoid:\n",
        "  def __init__(self):\n",
        "    self.params, self.grads = [], []\n",
        "    self.out = None\n",
        "    \n",
        "  def forward(self, x):\n",
        "    out = 1 / (1  + xp.exp(-x))\n",
        "    self.out = out\n",
        "    return out\n",
        "  \n",
        "  def backward(self, dout):\n",
        "    dx = dout * (1.0 - self.out) * self.out\n",
        "    return dx\n",
        "  \n",
        "# Affineレイヤ\n",
        "class Affine:\n",
        "  def __init__(self, W, b):\n",
        "    self.params = [W, b]\n",
        "    self.grads = [xp.zeros_like(W), xp.zeros_like(b)]\n",
        "    self.x = None\n",
        "    \n",
        "  def forward(self, x):\n",
        "    W, b = self.params\n",
        "    out = xp.dot(x, W) + b\n",
        "    self.x = x\n",
        "    return out\n",
        "  \n",
        "  def backward(self, dout):\n",
        "    W, b = self.params\n",
        "    dx = xp.dot(dout, W.T)\n",
        "    dW = xp.dot(self.x.T, dout)\n",
        "    db = xp.sum(dout, axis=0)\n",
        "    \n",
        "    self.grads[0][...] = dW\n",
        "    self.grads[1][...] = db\n",
        "    return dx\n",
        "\n",
        "# ochastic Gradiexlt Descent:確 率的勾配降下法\n",
        "class SGD:\n",
        "  def __init__(self, lr=0.01):\n",
        "    self.lr = lr\n",
        "  \n",
        "  def update(self, params, grads):\n",
        "    for i in range(len(params)):\n",
        "      params[i] -= self.lr * grads[i]\n",
        "      \n",
        "# softmax関数\n",
        "def softmax(x):\n",
        "  if x.ndim == 2:\n",
        "    x = x - x.max(axis=1, keepdims=True)\n",
        "    x = xp.exp(x)\n",
        "    x /= x.sum(axis=1, keepdims=True)\n",
        "  elif x.ndim == 1:\n",
        "    x = x - xp.max(x)\n",
        "    x = xp.exp(x) / xp.sum(xp.exp(x))\n",
        "  else:\n",
        "    print('warning!!! unexpected shape x : {}'.format(x.shape))\n",
        "  return x\n",
        "\n",
        "#交差エントロピー誤差\n",
        "def cross_entropy_error(y, t):\n",
        "  if y.ndim == 1:\n",
        "    t = t.reshape(1, t.size)\n",
        "    y = y.reshape(1, y.size)\n",
        "  \n",
        "  #教師データがone-hot vectorの場合，正解ラベルのインデックスに変換\n",
        "  if t.size == y.size:\n",
        "    t = t.argmax(axis=1)\n",
        "  \n",
        "  batch_size = y.shape[0]\n",
        "  \n",
        "  return -xp.sum(xp.log(y[xp.arange(batch_size), t] + 1e-7)) / batch_size\n",
        "\n",
        "class SoftmaxWithLoss:\n",
        "    def __init__(self):\n",
        "        self.params, self.grads = [], []\n",
        "        self.y = None  # softmaxの出力\n",
        "        self.t = None  # 教師ラベル\n",
        "\n",
        "    def forward(self, x, t):\n",
        "        self.t = t\n",
        "        self.y = softmax(x)\n",
        "\n",
        "        # 教師ラベルがone-hotベクトルの場合、正解のインデックスに変換\n",
        "        if self.t.size == self.y.size:\n",
        "            self.t = self.t.argmax(axis=1)\n",
        "\n",
        "        loss = cross_entropy_error(self.y, self.t)\n",
        "        return loss\n",
        "\n",
        "    def backward(self, dout=1):\n",
        "        batch_size = self.t.shape[0]\n",
        "\n",
        "        dx = self.y.copy()\n",
        "        dx[xp.arange(batch_size), self.t] -= 1\n",
        "        dx *= dout\n",
        "        dx = dx / batch_size\n",
        "        \n",
        "        return dx"
      ],
      "execution_count": 0,
      "outputs": []
    },
    {
      "metadata": {
        "id": "iZeNx_oVWIrJ",
        "colab_type": "code",
        "colab": {
          "base_uri": "https://localhost:8080/",
          "height": 347
        },
        "outputId": "02ce7944-307d-46b2-e388-ad6af95ccf6e"
      },
      "cell_type": "code",
      "source": [
        "from dataset import spiral\n",
        "x, t = spiral.load_data()\n",
        "\n",
        "def show_spiral(x, t):\n",
        "  CLASS_NUM = 3\n",
        "  markers = ['o', 'x', '^']\n",
        "  for i in range(CLASS_NUM):\n",
        "      plt.scatter(x[i*N:(i+1)*N, 0], x[i*N:(i+1)*N, 1], s=40, marker=markers[i])\n",
        "  plt.show()\n",
        "\n",
        "show_spiral(x, t)"
      ],
      "execution_count": 151,
      "outputs": [
        {
          "output_type": "display_data",
          "data": {
            "image/png": "[encoded data removed]",
            "text/plain": [
              "<matplotlib.figure.Figure at 0x7efe46561b38>"
            ]
          },
          "metadata": {
            "tags": []
          }
        }
      ]
    },
    {
      "metadata": {
        "id": "Bs5fv5HMZTGw",
        "colab_type": "text"
      },
      "cell_type": "markdown",
      "source": [
        "# **ニューラルネットワークの実装**"
      ]
    },
    {
      "metadata": {
        "id": "4-QPbNKiX8Qw",
        "colab_type": "code",
        "colab": {}
      },
      "cell_type": "code",
      "source": [
        "class TwoLayerNet:\n",
        "  def __init__(self, input_size, hidden_size, output_size):\n",
        "    #重みとバイアスの初期化\n",
        "    W1 = 0.01 * xp.random.randn(input_size, hidden_size)\n",
        "    b1 = xp.zeros(hidden_size)\n",
        "    W2 = 0.01 * xp.random.randn(hidden_size, output_size)\n",
        "    b2 = xp.zeros(output_size)\n",
        "    \n",
        "    self.layers = [\n",
        "        Affine(W1, b1),\n",
        "        Sigmoid(),\n",
        "        Affine(W2, b2)\n",
        "    ]\n",
        "    self.loss_layer = SoftmaxWithLoss()\n",
        "    \n",
        "    self.params, self.grads = [], []\n",
        "    for layer in self.layers:\n",
        "      self.params += layer.params\n",
        "      self.grads += layer.grads\n",
        "    \n",
        "  def predict(self, x):\n",
        "    for layer in self.layers:\n",
        "      x = layer.forward(x)\n",
        "    return x\n",
        "  \n",
        "  def forward(self, x, t):\n",
        "    score = self.predict(x)\n",
        "    loss = self.loss_layer.forward(score, t)\n",
        "    return loss\n",
        "  \n",
        "  def backward(self,  dout=1):\n",
        "    dout = self.loss_layer.backward(dout)\n",
        "    for layer in reversed(self.layers):\n",
        "      dout = layer.backward(dout)\n",
        "    return dout"
      ],
      "execution_count": 0,
      "outputs": []
    },
    {
      "metadata": {
        "id": "d589dZPlYi25",
        "colab_type": "code",
        "colab": {
          "base_uri": "https://localhost:8080/",
          "height": 34
        },
        "outputId": "ad926cc0-208b-4eae-ad44-8e9c0ffe924b"
      },
      "cell_type": "code",
      "source": [
        "# ハイパーパラメータの設定\n",
        "max_epoch = 300\n",
        "batch_size = 30\n",
        "hidden_size = 10\n",
        "learning_rate = 1.0\n",
        "\n",
        "#モデル読み込み，最適化関数読み込み\n",
        "model = TwoLayerNet(input_size=2, hidden_size=hidden_size, output_size=3)\n",
        "optimizer = SGD(lr=learning_rate)\n",
        "\n",
        "# 学習で使用する変数\n",
        "data_size = len(x)\n",
        "max_iters = data_size // batch_size\n",
        "total_loss = 0\n",
        "loss_count = 0\n",
        "loss_list = []\n",
        "\n",
        "x, t = spiral.load_data()\n",
        "x = xp.array(x)\n",
        "t = xp.array(t)\n",
        "\n",
        "import time\n",
        "start = time.time()\n",
        "\n",
        "for epoch in range(max_epoch):\n",
        "    # データのシャッフル\n",
        "    idx = xp.random.permutation(data_size)\n",
        "    x = x[idx]\n",
        "    t = t[idx]\n",
        "\n",
        "    for iters in range(max_iters):\n",
        "        batch_x = x[iters*batch_size:(iters+1)*batch_size]\n",
        "        batch_t = t[iters*batch_size:(iters+1)*batch_size]\n",
        "\n",
        "        # 勾配を求め、パラメータを更新\n",
        "        loss = model.forward(batch_x, batch_t)\n",
        "        model.backward()\n",
        "        optimizer.update(model.params, model.grads)\n",
        "\n",
        "        total_loss += loss\n",
        "        loss_count += 1\n",
        "\n",
        "        # 定期的に学習経過を出力\n",
        "        if (iters+1) % 10 == 0:\n",
        "            avg_loss = total_loss / loss_count\n",
        "            print('| epoch %d |  iter %d / %d | loss %.2f'\n",
        "                  % (epoch + 1, iters + 1, max_iters, avg_loss))\n",
        "            loss_list.append(avg_loss)\n",
        "            total_loss, loss_count = 0, 0\n",
        "print(time.time() - start)"
      ],
      "execution_count": 153,
      "outputs": [
        {
          "output_type": "stream",
          "text": [
            "32.0690643787384\n"
          ],
          "name": "stdout"
        }
      ]
    },
    {
      "metadata": {
        "id": "vRSyDp46YkQS",
        "colab_type": "code",
        "colab": {
          "base_uri": "https://localhost:8080/",
          "height": 361
        },
        "outputId": "eae96cb9-bc53-4b47-b4bb-402fd9277019"
      },
      "cell_type": "code",
      "source": [
        "# 学習結果のプロット\n",
        "def show_loss(loss_list):\n",
        "  plt.plot(np.arange(len(loss_list)), loss_list, label='train')\n",
        "  plt.xlabel('iterations (x10)')\n",
        "  plt.ylabel('loss')\n",
        "  plt.show()\n",
        "\n",
        "show_loss(loss_list)"
      ],
      "execution_count": 147,
      "outputs": [
        {
          "output_type": "display_data",
          "data": {
            "image/png": "[encoded data removed]",
            "text/plain": [
              "<matplotlib.figure.Figure at 0x7efe466340b8>"
            ]
          },
          "metadata": {
            "tags": []
          }
        }
      ]
    },
    {
      "metadata": {
        "id": "ApdmnnP9YlHL",
        "colab_type": "code",
        "colab": {
          "base_uri": "https://localhost:8080/",
          "height": 347
        },
        "outputId": "43dff96d-217b-49df-bde6-265883f9e17c"
      },
      "cell_type": "code",
      "source": [
        "#境界領域のプロット\n",
        "def show_territory(x, t):\n",
        "  h = 0.001\n",
        "  #グラフ領域の設定\n",
        "  x_min, x_max = x[:, 0].min() - .1, x[:, 0].max() + .1\n",
        "  y_min, y_max = x[:, 1].min() - .1, x[:, 1].max() + .1\n",
        "  \n",
        "  xx, yy = np.meshgrid(np.arange(x_min, x_max, h), np.arange(y_min, y_max, h))\n",
        "  X = np.c_[xx.ravel(), yy.ravel()]\n",
        "  score = model.predict(X)\n",
        "  predict_cls = np.argmax(score, axis=1)\n",
        "  Z = predict_cls.reshape(xx.shape)\n",
        "  plt.contourf(xx, yy, Z, cmap='viridis')\n",
        "  plt.axis('off')\n",
        "  show_spiral(x, t)\n",
        "\n",
        "x, t = spiral.load_data()\n",
        "show_territory(x, t)"
      ],
      "execution_count": 110,
      "outputs": [
        {
          "output_type": "display_data",
          "data": {
            "image/png": "[encoded data removed]",
            "text/plain": [
              "<matplotlib.figure.Figure at 0x7efe48aafe10>"
            ]
          },
          "metadata": {
            "tags": []
          }
        }
      ]
    },
    {
      "metadata": {
        "id": "x-EO63AKlsYK",
        "colab_type": "code",
        "colab": {}
      },
      "cell_type": "code",
      "source": [
        ""
      ],
      "execution_count": 0,
      "outputs": []
    }
  ]
}